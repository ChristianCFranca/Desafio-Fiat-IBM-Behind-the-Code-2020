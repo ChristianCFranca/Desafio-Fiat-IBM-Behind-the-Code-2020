{
 "cells": [
  {
   "cell_type": "markdown",
   "metadata": {},
   "source": [
    "Execute a célula de baixo se ainda não instalou o `Watson Developer Cloud Python SDK`. Essa é a biblioteca que vai te permitir conectar, via Python, aos serviços da IBM Cloud."
   ]
  },
  {
   "cell_type": "code",
   "execution_count": null,
   "metadata": {},
   "outputs": [],
   "source": [
    "!pip install --upgrade ibm-watson"
   ]
  },
  {
   "cell_type": "markdown",
   "metadata": {},
   "source": [
    "Após a instalação, você deve importar os seguintes serviços suficientes para o desafio:"
   ]
  },
  {
   "cell_type": "code",
   "execution_count": null,
   "metadata": {},
   "outputs": [],
   "source": [
    "# Lidar com arquivos JSON\n",
    "import json\n",
    "\n",
    "# Aqui importamos as classes que cuidam dos serviços do Natural Language Understanding e do Speech-to-Text\n",
    "from ibm_watson import NaturalLanguageUnderstandingV1, SpeechToTextV1\n",
    "\n",
    "# Puxamos, para o natural language understanding, as classes de Features e EntitiesOptions que serão úteis para obter as entidades e os sentimentos associdados\n",
    "from ibm_watson.natural_language_understanding_v1 import Features, EntitiesOptions\n",
    "\n",
    "# Só é possível se conectar aos seus serviços se você se autenticar, e a classe que cuidará disso é o IAMAuthenticator\n",
    "from ibm_cloud_sdk_core.authenticators import IAMAuthenticator"
   ]
  },
  {
   "cell_type": "markdown",
   "metadata": {},
   "source": [
    "## Serviço NLU"
   ]
  },
  {
   "cell_type": "markdown",
   "metadata": {},
   "source": [
    "Você precisará de 3 coisas: A key e a URL do seu serviço de `Natural Language Understanding` e o model_id do seu Knowledge Studio treinado."
   ]
  },
  {
   "cell_type": "code",
   "execution_count": null,
   "metadata": {},
   "outputs": [],
   "source": [
    "nlu_apikey = \"sua-key-aqui\"\n",
    "    \n",
    "nlu_service_url = \"sua-url-aqui\"\n",
    "    \n",
    "nlu_entity_model = \"seu-model-id-aqui\""
   ]
  },
  {
   "cell_type": "code",
   "execution_count": 2,
   "metadata": {},
   "outputs": [],
   "source": [
    "nlu_apikey = \"NyDMAj43hZvu1T-vWbz-evJgiYhZZZwR3_bLO1-y0P7f\"\n",
    "nlu_service_url = \"https://api.us-south.natural-language-understanding.watson.cloud.ibm.com/instances/7e56160b-4784-41fb-8d56-193a3b3c7fec\"  \n",
    "nlu_entity_model = \"4f0c3f0d-d6ec-4723-a3ae-1868a6435c69\"\n",
    "\n",
    "# Speech-to-Text\n",
    "stt_apikey = \"HfKqTA4ixXjPkNfKNSFcK6P-ATgmGuhXIqOTOxhO0RYM\"\n",
    "stt_service_url = \"https://api.us-south.speech-to-text.watson.cloud.ibm.com/instances/c787c51d-d355-48a4-898e-96e61da2d7ad\"\n",
    "stt_entity_model = 'pt-BR_BroadbandModel'\n"
   ]
  },
  {
   "cell_type": "markdown",
   "metadata": {},
   "source": [
    "Agora instanciamos os serviços com as suas credenciais."
   ]
  },
  {
   "cell_type": "code",
   "execution_count": 3,
   "metadata": {},
   "outputs": [],
   "source": [
    "# Cria-se um autenticador\n",
    "nlu_authenticator = IAMAuthenticator(apikey=nlu_apikey)\n",
    "\n",
    "# Criamos o serviço passando esse autenticador\n",
    "nlu_service = NaturalLanguageUnderstandingV1(\n",
    "    version='2018-03-16',\n",
    "    authenticator=nlu_authenticator)\n",
    "\n",
    "# Setamos a URL de acesso do nosso serviço\n",
    "nlu_service.set_service_url(nlu_service_url)"
   ]
  },
  {
   "cell_type": "markdown",
   "metadata": {},
   "source": [
    "## Serviço STT"
   ]
  },
  {
   "cell_type": "markdown",
   "metadata": {},
   "source": [
    "Aqui você só vai precisar da key e da URL do seu serviço do `Speech-to-Text`"
   ]
  },
  {
   "cell_type": "code",
   "execution_count": null,
   "metadata": {},
   "outputs": [],
   "source": [
    "stt_apikey = \"sua-key-aqui\"\n",
    "\n",
    "stt_service_url = \"sua-url-aqui\""
   ]
  },
  {
   "cell_type": "markdown",
   "metadata": {},
   "source": [
    "E agora instanciamos o serviço com as suas credenciais."
   ]
  },
  {
   "cell_type": "code",
   "execution_count": 4,
   "metadata": {},
   "outputs": [],
   "source": [
    "stt_authenticator = IAMAuthenticator(apikey=stt_apikey)\n",
    "\n",
    "stt_service = SpeechToTextV1(authenticator=stt_authenticator)\n",
    "\n",
    "stt_service.set_service_url(stt_service_url)"
   ]
  },
  {
   "cell_type": "markdown",
   "metadata": {},
   "source": [
    "## Resposta NLU"
   ]
  },
  {
   "cell_type": "markdown",
   "metadata": {},
   "source": [
    "Para usar o serviço agora, basta mandar uma variável contendo seu texto para o serviço utilizando o método `.analyze()`. É no próprio método que, na parte de `Features`, você define o modelo que quer usar para extrair as entidades e o sentimento. Lembre que a variável deve estar do formato `str`, ou seja, deve ser uma string. \n",
    "\n",
    "Quando rodar a célula abaixo, você verá o resultado do `nlu_response` logo em seguida. Deve demorar alguns segundos para fazer a requisição."
   ]
  },
  {
   "cell_type": "code",
   "execution_count": null,
   "metadata": {},
   "outputs": [],
   "source": [
    "# Defina o que você quer enviar para o seu modelo analisar. O importante é que você envie uma string. Essa variável text pode ser o que você quiser\n",
    "text = \"O novo Fiat Toro apresenta um motor incrível! Sem dúvida possui um dos melhores arranques que eu conheço. O design exterior do veículo também é de chamar muita atenção!\"\n",
    "\n",
    "# O método analyze cuida de tudo\n",
    "nlu_response = nlu_service.analyze(\n",
    "    text=text,\n",
    "    features=Features(entities=EntitiesOptions(model=nlu_entity_model, sentiment=True)),\n",
    "    language='pt'\n",
    ").get_result()\n",
    "\n",
    "print(json.dumps(nlu_response, indent=2, ensure_ascii=False))"
   ]
  },
  {
   "cell_type": "markdown",
   "metadata": {},
   "source": [
    "Uma vez feito isso, sua variável `nlu_result` é agora um `dict` (dicionário) com a resposta do serviço ao texto que você forneceu. Você pode agora manipular como quiser essa resposta em seu código para completar o desafio."
   ]
  },
  {
   "cell_type": "markdown",
   "metadata": {},
   "source": [
    "## Resposta STT"
   ]
  },
  {
   "cell_type": "markdown",
   "metadata": {},
   "source": [
    "Aqui é a mesma ideia, mas no caso como enviamos um arquivo temos que abrí-lo primeiro (quando você estiver montando sua api você vai receber como requisição e não como leitura do disco, isso é apenas para exemplo). Você deve enviar um arquivo de tipo `bytes` para o serviço. O `open` do python cuida dessa parte para esse caso. Não carregue um arquivo que não seja formato `.flac`, pois não irá funcionar."
   ]
  },
  {
   "cell_type": "code",
   "execution_count": 6,
   "metadata": {},
   "outputs": [],
   "source": [
    "caminho_para_audio = \"./doc/source/dataset/audio_sample.flac\"\n",
    "#caminho_para_audio = \"coloque o PATH da amostra de áudio no formato flac aqui\""
   ]
  },
  {
   "cell_type": "markdown",
   "metadata": {},
   "source": [
    "Como o serviço de Speech-to-Text lida com linguagem, você deve indicar qual modelo linguístico você quer usar. Queremos utilizar um que identifique o português do Brasil. Eu já o separei abaixo para você."
   ]
  },
  {
   "cell_type": "code",
   "execution_count": null,
   "metadata": {},
   "outputs": [],
   "source": [
    "stt_model = 'pt-BR_BroadbandModel'"
   ]
  },
  {
   "cell_type": "markdown",
   "metadata": {},
   "source": [
    "Com isso pronto, carregamos nosso arquivo `.flac` e o enviamos ao serviço. Isso é feito agora pelo método `.recognize()`. Feito isso você verá o resultado ser printado logo abaixo."
   ]
  },
  {
   "cell_type": "code",
   "execution_count": 7,
   "metadata": {},
   "outputs": [
    {
     "ename": "TypeError",
     "evalue": "'indent' is an invalid keyword argument for this function",
     "output_type": "error",
     "traceback": [
      "\u001b[1;31m---------------------------------------------------------------------------\u001b[0m",
      "\u001b[1;31mTypeError\u001b[0m                                 Traceback (most recent call last)",
      "\u001b[1;32m<ipython-input-7-9dd84b19362b>\u001b[0m in \u001b[0;36m<module>\u001b[1;34m\u001b[0m\n\u001b[0;32m      7\u001b[0m             word_confidence=False).get_result()\n\u001b[0;32m      8\u001b[0m \u001b[1;33m\u001b[0m\u001b[0m\n\u001b[1;32m----> 9\u001b[1;33m \u001b[0mprint\u001b[0m\u001b[1;33m(\u001b[0m\u001b[0mstt_results\u001b[0m\u001b[1;33m,\u001b[0m\u001b[0mindent\u001b[0m\u001b[1;33m=\u001b[0m\u001b[1;36m2\u001b[0m\u001b[1;33m,\u001b[0m \u001b[0mensure_ascii\u001b[0m\u001b[1;33m=\u001b[0m\u001b[1;32mFalse\u001b[0m\u001b[1;33m)\u001b[0m\u001b[1;33m\u001b[0m\u001b[1;33m\u001b[0m\u001b[0m\n\u001b[0m",
      "\u001b[1;31mTypeError\u001b[0m: 'indent' is an invalid keyword argument for this function"
     ]
    }
   ],
   "source": [
    "with open(caminho_para_audio, 'rb') as audio_file:\n",
    "    stt_results = stt_service.recognize(\n",
    "            audio=audio_file,\n",
    "            content_type='audio/flac',\n",
    "            #model=stt_model,\n",
    "            timestamps=False,\n",
    "            word_confidence=False).get_result()\n",
    "    \n",
    "print(json.dumps(stt_results,indent=2, ensure_ascii=False))"
   ]
  },
  {
   "cell_type": "markdown",
   "metadata": {},
   "source": [
    "Uma vez feito isso, sua variável `stt_results` é agora um `dict` (dicionário) com a resposta do serviço ao arquivo de áudio que você forneceu. Você pode agora manipular como quiser essa resposta em seu código para completar o desafio."
   ]
  },
  {
   "cell_type": "markdown",
   "metadata": {},
   "source": [
    "## Boa Sorte!!"
   ]
  }
 ],
 "metadata": {
  "kernelspec": {
   "display_name": "Python 3",
   "language": "python",
   "name": "python3"
  },
  "language_info": {
   "codemirror_mode": {
    "name": "ipython",
    "version": 3
   },
   "file_extension": ".py",
   "mimetype": "text/x-python",
   "name": "python",
   "nbconvert_exporter": "python",
   "pygments_lexer": "ipython3",
   "version": "3.6.10"
  }
 },
 "nbformat": 4,
 "nbformat_minor": 4
}
